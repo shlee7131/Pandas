{
 "cells": [
  {
   "cell_type": "code",
   "execution_count": 1,
   "metadata": {},
   "outputs": [],
   "source": [
    "#필요한 라이브러리를 불러오기\n",
    "import pandas as pd"
   ]
  },
  {
   "cell_type": "code",
   "execution_count": 2,
   "metadata": {},
   "outputs": [
    {
     "data": {
      "text/plain": [
       "'https://www.seoul.go.kr/coronaV/coronaStatus.do'"
      ]
     },
     "execution_count": 2,
     "metadata": {},
     "output_type": "execute_result"
    }
   ],
   "source": [
    "# 크롤링으로 가져올 URL 주소를 입력\n",
    "url = \"https://www.seoul.go.kr/coronaV/coronaStatus.do\"\n",
    "url"
   ]
  },
  {
   "cell_type": "code",
   "execution_count": 5,
   "metadata": {},
   "outputs": [
    {
     "data": {
      "text/plain": [
       "8"
      ]
     },
     "execution_count": 5,
     "metadata": {},
     "output_type": "execute_result"
    }
   ],
   "source": [
    "# 판다스의 read_html 을 통해 위 url에 있는 정보 불러오기(html 상 table 정보)\n",
    "\n",
    "table = pd.read_html(url) #데이터를 크롤링 해오는 중\n",
    "len(table)"
   ]
  },
  {
   "cell_type": "code",
   "execution_count": 7,
   "metadata": {},
   "outputs": [
    {
     "data": {
      "text/html": [
       "<div>\n",
       "<style scoped>\n",
       "    .dataframe tbody tr th:only-of-type {\n",
       "        vertical-align: middle;\n",
       "    }\n",
       "\n",
       "    .dataframe tbody tr th {\n",
       "        vertical-align: top;\n",
       "    }\n",
       "\n",
       "    .dataframe thead th {\n",
       "        text-align: right;\n",
       "    }\n",
       "</style>\n",
       "<table border=\"1\" class=\"dataframe\">\n",
       "  <thead>\n",
       "    <tr style=\"text-align: right;\">\n",
       "      <th></th>\n",
       "      <th>0</th>\n",
       "      <th>1</th>\n",
       "      <th>2</th>\n",
       "    </tr>\n",
       "  </thead>\n",
       "  <tbody>\n",
       "    <tr>\n",
       "      <th>종로구</th>\n",
       "      <td>28</td>\n",
       "      <td>마포구</td>\n",
       "      <td>52</td>\n",
       "    </tr>\n",
       "    <tr>\n",
       "      <th>중구</th>\n",
       "      <td>20</td>\n",
       "      <td>양천구</td>\n",
       "      <td>71</td>\n",
       "    </tr>\n",
       "    <tr>\n",
       "      <th>용산구</th>\n",
       "      <td>54</td>\n",
       "      <td>강서구</td>\n",
       "      <td>103</td>\n",
       "    </tr>\n",
       "    <tr>\n",
       "      <th>성동구</th>\n",
       "      <td>57</td>\n",
       "      <td>구로구</td>\n",
       "      <td>91</td>\n",
       "    </tr>\n",
       "    <tr>\n",
       "      <th>광진구</th>\n",
       "      <td>22</td>\n",
       "      <td>금천구</td>\n",
       "      <td>39</td>\n",
       "    </tr>\n",
       "    <tr>\n",
       "      <th>동대문구</th>\n",
       "      <td>44</td>\n",
       "      <td>영등포구</td>\n",
       "      <td>72</td>\n",
       "    </tr>\n",
       "    <tr>\n",
       "      <th>중랑구</th>\n",
       "      <td>44</td>\n",
       "      <td>동작구</td>\n",
       "      <td>70</td>\n",
       "    </tr>\n",
       "    <tr>\n",
       "      <th>성북구</th>\n",
       "      <td>42</td>\n",
       "      <td>관악구</td>\n",
       "      <td>144</td>\n",
       "    </tr>\n",
       "    <tr>\n",
       "      <th>강북구</th>\n",
       "      <td>28</td>\n",
       "      <td>서초구</td>\n",
       "      <td>64</td>\n",
       "    </tr>\n",
       "    <tr>\n",
       "      <th>도봉구</th>\n",
       "      <td>64</td>\n",
       "      <td>강남구</td>\n",
       "      <td>98</td>\n",
       "    </tr>\n",
       "    <tr>\n",
       "      <th>노원구</th>\n",
       "      <td>50</td>\n",
       "      <td>송파구</td>\n",
       "      <td>98</td>\n",
       "    </tr>\n",
       "    <tr>\n",
       "      <th>은평구</th>\n",
       "      <td>64</td>\n",
       "      <td>강동구</td>\n",
       "      <td>49</td>\n",
       "    </tr>\n",
       "    <tr>\n",
       "      <th>서대문구</th>\n",
       "      <td>41</td>\n",
       "      <td>기타</td>\n",
       "      <td>93</td>\n",
       "    </tr>\n",
       "  </tbody>\n",
       "</table>\n",
       "</div>"
      ],
      "text/plain": [
       "       0     1    2\n",
       "종로구   28   마포구   52\n",
       "중구    20   양천구   71\n",
       "용산구   54   강서구  103\n",
       "성동구   57   구로구   91\n",
       "광진구   22   금천구   39\n",
       "동대문구  44  영등포구   72\n",
       "중랑구   44   동작구   70\n",
       "성북구   42   관악구  144\n",
       "강북구   28   서초구   64\n",
       "도봉구   64   강남구   98\n",
       "노원구   50   송파구   98\n",
       "은평구   64   강동구   49\n",
       "서대문구  41    기타   93"
      ]
     },
     "execution_count": 7,
     "metadata": {},
     "output_type": "execute_result"
    }
   ],
   "source": [
    "#read_html 은 사이트 내의 html 태그를 불러옵니다.\n",
    "\n",
    "table[0].T # Transpose"
   ]
  },
  {
   "cell_type": "code",
   "execution_count": 18,
   "metadata": {},
   "outputs": [
    {
     "data": {
      "text/plain": [
       "(1602, 7)"
      ]
     },
     "execution_count": 18,
     "metadata": {},
     "output_type": "execute_result"
    }
   ],
   "source": [
    "# table 변수 안에 있는 table 태그의 값을 하나씩 읽어보며 확진자 목록이 있는 테이블을 가져오기\n",
    "df = table[6]\n",
    "df.shape"
   ]
  },
  {
   "cell_type": "code",
   "execution_count": 19,
   "metadata": {},
   "outputs": [
    {
     "data": {
      "text/html": [
       "<div>\n",
       "<style scoped>\n",
       "    .dataframe tbody tr th:only-of-type {\n",
       "        vertical-align: middle;\n",
       "    }\n",
       "\n",
       "    .dataframe tbody tr th {\n",
       "        vertical-align: top;\n",
       "    }\n",
       "\n",
       "    .dataframe thead th {\n",
       "        text-align: right;\n",
       "    }\n",
       "</style>\n",
       "<table border=\"1\" class=\"dataframe\">\n",
       "  <thead>\n",
       "    <tr style=\"text-align: right;\">\n",
       "      <th></th>\n",
       "      <th>연번</th>\n",
       "      <th>환자</th>\n",
       "      <th>확진일</th>\n",
       "      <th>거주지</th>\n",
       "      <th>여행력</th>\n",
       "      <th>접촉력</th>\n",
       "      <th>조치사항</th>\n",
       "    </tr>\n",
       "  </thead>\n",
       "  <tbody>\n",
       "    <tr>\n",
       "      <th>0</th>\n",
       "      <td>1602</td>\n",
       "      <td>14332</td>\n",
       "      <td>7.31.</td>\n",
       "      <td>서초구</td>\n",
       "      <td>-</td>\n",
       "      <td>확인 중</td>\n",
       "      <td>서울성모병원</td>\n",
       "    </tr>\n",
       "    <tr>\n",
       "      <th>1</th>\n",
       "      <td>1601</td>\n",
       "      <td>14325</td>\n",
       "      <td>7.30.</td>\n",
       "      <td>은평구</td>\n",
       "      <td>-</td>\n",
       "      <td>확인 중</td>\n",
       "      <td>서울의료원</td>\n",
       "    </tr>\n",
       "    <tr>\n",
       "      <th>2</th>\n",
       "      <td>1600</td>\n",
       "      <td>14303</td>\n",
       "      <td>7.30.</td>\n",
       "      <td>송파구</td>\n",
       "      <td>-</td>\n",
       "      <td>송파구 확진자 접촉</td>\n",
       "      <td>보라매병원</td>\n",
       "    </tr>\n",
       "    <tr>\n",
       "      <th>3</th>\n",
       "      <td>1599</td>\n",
       "      <td>14300</td>\n",
       "      <td>7.30.</td>\n",
       "      <td>강동구</td>\n",
       "      <td>-</td>\n",
       "      <td>강남구 사무실 K빌딩</td>\n",
       "      <td>서울의료원</td>\n",
       "    </tr>\n",
       "    <tr>\n",
       "      <th>4</th>\n",
       "      <td>1598</td>\n",
       "      <td>14298</td>\n",
       "      <td>7.30.</td>\n",
       "      <td>서초구</td>\n",
       "      <td>-</td>\n",
       "      <td>타시도 확진자 접촉</td>\n",
       "      <td>보라매병원</td>\n",
       "    </tr>\n",
       "  </tbody>\n",
       "</table>\n",
       "</div>"
      ],
      "text/plain": [
       "     연번     환자    확진일  거주지 여행력          접촉력    조치사항\n",
       "0  1602  14332  7.31.  서초구   -         확인 중  서울성모병원\n",
       "1  1601  14325  7.30.  은평구   -         확인 중   서울의료원\n",
       "2  1600  14303  7.30.  송파구   -   송파구 확진자 접촉   보라매병원\n",
       "3  1599  14300  7.30.  강동구   -  강남구 사무실 K빌딩   서울의료원\n",
       "4  1598  14298  7.30.  서초구   -   타시도 확진자 접촉   보라매병원"
      ]
     },
     "execution_count": 19,
     "metadata": {},
     "output_type": "execute_result"
    }
   ],
   "source": [
    "# 미리보기\n",
    "df.head()"
   ]
  },
  {
   "cell_type": "code",
   "execution_count": 24,
   "metadata": {},
   "outputs": [
    {
     "data": {
      "text/plain": [
       "'7_31_'"
      ]
     },
     "execution_count": 24,
     "metadata": {},
     "output_type": "execute_result"
    }
   ],
   "source": [
    "# 마지막 확진일을 파일명에 써주기 위해 .을 _로 변경\n",
    "# 확장자와 구분이 쉽게 되도록 _ 로 변경\n",
    "\n",
    "last_day = df.loc[0,\"확진일\"]\n",
    "last_day = last_day.replace('.','_')\n",
    "last_day"
   ]
  },
  {
   "cell_type": "code",
   "execution_count": 27,
   "metadata": {},
   "outputs": [
    {
     "data": {
      "text/plain": [
       "'seoul-covid19_7_31_.csv'"
      ]
     },
     "execution_count": 27,
     "metadata": {},
     "output_type": "execute_result"
    }
   ],
   "source": [
    "# 파일명 만들기\n",
    "file_name = f\"seoul-covid19_{last_day}.csv\"\n",
    "file_name"
   ]
  },
  {
   "cell_type": "code",
   "execution_count": 34,
   "metadata": {},
   "outputs": [],
   "source": [
    "# csv 파일로 저장\n",
    "df.to_csv(file_name, index=False) # 기존 table 의 인덱스 저장 X , 인코딩 default UTF-8, 엑셀 = cp949"
   ]
  },
  {
   "cell_type": "code",
   "execution_count": 36,
   "metadata": {},
   "outputs": [
    {
     "data": {
      "text/html": [
       "<div>\n",
       "<style scoped>\n",
       "    .dataframe tbody tr th:only-of-type {\n",
       "        vertical-align: middle;\n",
       "    }\n",
       "\n",
       "    .dataframe tbody tr th {\n",
       "        vertical-align: top;\n",
       "    }\n",
       "\n",
       "    .dataframe thead th {\n",
       "        text-align: right;\n",
       "    }\n",
       "</style>\n",
       "<table border=\"1\" class=\"dataframe\">\n",
       "  <thead>\n",
       "    <tr style=\"text-align: right;\">\n",
       "      <th></th>\n",
       "      <th>연번</th>\n",
       "      <th>환자</th>\n",
       "      <th>확진일</th>\n",
       "      <th>거주지</th>\n",
       "      <th>여행력</th>\n",
       "      <th>접촉력</th>\n",
       "      <th>조치사항</th>\n",
       "    </tr>\n",
       "  </thead>\n",
       "  <tbody>\n",
       "    <tr>\n",
       "      <th>0</th>\n",
       "      <td>1602</td>\n",
       "      <td>14332</td>\n",
       "      <td>7.31.</td>\n",
       "      <td>서초구</td>\n",
       "      <td>-</td>\n",
       "      <td>확인 중</td>\n",
       "      <td>서울성모병원</td>\n",
       "    </tr>\n",
       "    <tr>\n",
       "      <th>1</th>\n",
       "      <td>1601</td>\n",
       "      <td>14325</td>\n",
       "      <td>7.30.</td>\n",
       "      <td>은평구</td>\n",
       "      <td>-</td>\n",
       "      <td>확인 중</td>\n",
       "      <td>서울의료원</td>\n",
       "    </tr>\n",
       "    <tr>\n",
       "      <th>2</th>\n",
       "      <td>1600</td>\n",
       "      <td>14303</td>\n",
       "      <td>7.30.</td>\n",
       "      <td>송파구</td>\n",
       "      <td>-</td>\n",
       "      <td>송파구 확진자 접촉</td>\n",
       "      <td>보라매병원</td>\n",
       "    </tr>\n",
       "    <tr>\n",
       "      <th>3</th>\n",
       "      <td>1599</td>\n",
       "      <td>14300</td>\n",
       "      <td>7.30.</td>\n",
       "      <td>강동구</td>\n",
       "      <td>-</td>\n",
       "      <td>강남구 사무실 K빌딩</td>\n",
       "      <td>서울의료원</td>\n",
       "    </tr>\n",
       "    <tr>\n",
       "      <th>4</th>\n",
       "      <td>1598</td>\n",
       "      <td>14298</td>\n",
       "      <td>7.30.</td>\n",
       "      <td>서초구</td>\n",
       "      <td>-</td>\n",
       "      <td>타시도 확진자 접촉</td>\n",
       "      <td>보라매병원</td>\n",
       "    </tr>\n",
       "    <tr>\n",
       "      <th>...</th>\n",
       "      <td>...</td>\n",
       "      <td>...</td>\n",
       "      <td>...</td>\n",
       "      <td>...</td>\n",
       "      <td>...</td>\n",
       "      <td>...</td>\n",
       "      <td>...</td>\n",
       "    </tr>\n",
       "    <tr>\n",
       "      <th>1597</th>\n",
       "      <td>5</td>\n",
       "      <td>9</td>\n",
       "      <td>1.31.</td>\n",
       "      <td>성북구</td>\n",
       "      <td>-</td>\n",
       "      <td>#5 접촉</td>\n",
       "      <td>서울의료원(퇴원)</td>\n",
       "    </tr>\n",
       "    <tr>\n",
       "      <th>1598</th>\n",
       "      <td>4</td>\n",
       "      <td>7</td>\n",
       "      <td>1.30.</td>\n",
       "      <td>마포구</td>\n",
       "      <td>중국 우한시</td>\n",
       "      <td>해외 접촉</td>\n",
       "      <td>서울의료원(퇴원)</td>\n",
       "    </tr>\n",
       "    <tr>\n",
       "      <th>1599</th>\n",
       "      <td>3</td>\n",
       "      <td>6</td>\n",
       "      <td>1.30.</td>\n",
       "      <td>종로구</td>\n",
       "      <td>-</td>\n",
       "      <td>#3 접촉</td>\n",
       "      <td>서울대학교병원(퇴원)</td>\n",
       "    </tr>\n",
       "    <tr>\n",
       "      <th>1600</th>\n",
       "      <td>2</td>\n",
       "      <td>5</td>\n",
       "      <td>1.30.</td>\n",
       "      <td>중랑구</td>\n",
       "      <td>중국 우한시</td>\n",
       "      <td>해외 접촉</td>\n",
       "      <td>서울의료원(퇴원)</td>\n",
       "    </tr>\n",
       "    <tr>\n",
       "      <th>1601</th>\n",
       "      <td>1</td>\n",
       "      <td>2</td>\n",
       "      <td>1.24.</td>\n",
       "      <td>강서구</td>\n",
       "      <td>중국 우한시</td>\n",
       "      <td>해외 접촉</td>\n",
       "      <td>국립중앙의료원(퇴원)</td>\n",
       "    </tr>\n",
       "  </tbody>\n",
       "</table>\n",
       "<p>1602 rows × 7 columns</p>\n",
       "</div>"
      ],
      "text/plain": [
       "        연번     환자    확진일  거주지     여행력          접촉력         조치사항\n",
       "0     1602  14332  7.31.  서초구       -         확인 중       서울성모병원\n",
       "1     1601  14325  7.30.  은평구       -         확인 중        서울의료원\n",
       "2     1600  14303  7.30.  송파구       -   송파구 확진자 접촉        보라매병원\n",
       "3     1599  14300  7.30.  강동구       -  강남구 사무실 K빌딩        서울의료원\n",
       "4     1598  14298  7.30.  서초구       -   타시도 확진자 접촉        보라매병원\n",
       "...    ...    ...    ...  ...     ...          ...          ...\n",
       "1597     5      9  1.31.  성북구       -        #5 접촉    서울의료원(퇴원)\n",
       "1598     4      7  1.30.  마포구  중국 우한시        해외 접촉    서울의료원(퇴원)\n",
       "1599     3      6  1.30.  종로구       -        #3 접촉  서울대학교병원(퇴원)\n",
       "1600     2      5  1.30.  중랑구  중국 우한시        해외 접촉    서울의료원(퇴원)\n",
       "1601     1      2  1.24.  강서구  중국 우한시        해외 접촉  국립중앙의료원(퇴원)\n",
       "\n",
       "[1602 rows x 7 columns]"
      ]
     },
     "execution_count": 36,
     "metadata": {},
     "output_type": "execute_result"
    }
   ],
   "source": [
    "# 제대로 저장되었는지 확인\n",
    "pd.read_csv(file_name,)"
   ]
  },
  {
   "cell_type": "code",
   "execution_count": null,
   "metadata": {},
   "outputs": [],
   "source": []
  }
 ],
 "metadata": {
  "kernelspec": {
   "display_name": "Python 3",
   "language": "python",
   "name": "python3"
  },
  "language_info": {
   "codemirror_mode": {
    "name": "ipython",
    "version": 3
   },
   "file_extension": ".py",
   "mimetype": "text/x-python",
   "name": "python",
   "nbconvert_exporter": "python",
   "pygments_lexer": "ipython3",
   "version": "3.7.6"
  }
 },
 "nbformat": 4,
 "nbformat_minor": 4
}
